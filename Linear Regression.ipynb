{
 "cells": [
  {
   "cell_type": "code",
   "execution_count": 1,
   "metadata": {},
   "outputs": [
    {
     "data": {
      "image/png": "[encoded data removed]",
      "text/plain": [
       "<Figure size 432x288 with 1 Axes>"
      ]
     },
     "metadata": {
      "needs_background": "light"
     },
     "output_type": "display_data"
    },
    {
     "name": "stdout",
     "output_type": "stream",
     "text": [
      "m = [1.93939394] \n",
      "b = [4.73333333]\n"
     ]
    }
   ],
   "source": [
    "# Fitting Linear Regression line to a set of X, Y data points\n",
    "\n",
    "import pandas as pd\n",
    "import matplotlib.pyplot as plt\n",
    "from sklearn.linear_model import LinearRegression\n",
    "\n",
    "df = pd.read_csv('https://bit.ly/3goOAnt', delimiter=',')\n",
    "\n",
    "X = df.values[:,:-1]\n",
    "Y = df.values[:, -1]\n",
    "\n",
    "fit = LinearRegression().fit(X, Y)\n",
    "\n",
    "m = fit.coef_.flatten() #gradient of fitted line\n",
    "b = fit.intercept_.flatten() #y-intercept of fitted line\n",
    "\n",
    "plt.plot(X, Y, 'o')\n",
    "plt.plot(X, m*X + b)\n",
    "plt.xlabel('x')\n",
    "plt.ylabel('y')\n",
    "plt.title('Linear Regression')\n",
    "plt.show()\n",
    "\n",
    "print('m = {0} \\nb = {1}'.format(m, b))"
   ]
  },
  {
   "cell_type": "code",
   "execution_count": 2,
   "metadata": {},
   "outputs": [
    {
     "name": "stdout",
     "output_type": "stream",
     "text": [
      "Residual error Pandas(Index=0, x=1, y=5): -1.6726999999999999\n",
      "Residual error Pandas(Index=1, x=2, y=10): 1.3879000000000001\n",
      "Residual error Pandas(Index=2, x=3, y=10): -0.5515000000000008\n",
      "Residual error Pandas(Index=3, x=4, y=15): 2.5091\n",
      "Residual error Pandas(Index=4, x=5, y=14): -0.430299999999999\n",
      "Residual error Pandas(Index=5, x=6, y=15): -1.3697000000000017\n",
      "Residual error Pandas(Index=6, x=7, y=19): 0.6908999999999992\n",
      "Residual error Pandas(Index=7, x=8, y=18): -2.2485\n",
      "Residual error Pandas(Index=8, x=9, y=25): 2.812100000000001\n",
      "Residual error Pandas(Index=9, x=10, y=23): -1.1272999999999982\n",
      "Sum of squared of residuals = 28.096969700000006\n"
     ]
    }
   ],
   "source": [
    "# Finding the residuals/errors for the fitted line & data points\n",
    "\n",
    "import pandas as pd\n",
    "\n",
    "points = pd.read_csv('https://bit.ly/3goOAnt', delimiter=',').itertuples() #import points\n",
    "\n",
    "m = 1.9394\n",
    "b = 4.7333\n",
    "\n",
    "sum_of_squares = 0  #declare sum of squares value before looping\n",
    "\n",
    "for p in points:\n",
    "    y_actual = p.y\n",
    "    y_predicted = m*p.x + b\n",
    "    residual = y_actual - y_predicted\n",
    "    residual_squared = (y_actual - y_predicted)**2\n",
    "    print('Residual error {0}: {1}'.format(p, residual))\n",
    "    # Finding the sum of squares for the residuals/error values above\n",
    "    sum_of_squares += residual_squared\n",
    "    \n",
    "print('Sum of squared of residuals = {0}'.format(sum_of_squares))"
   ]
  },
  {
   "cell_type": "code",
   "execution_count": 3,
   "metadata": {},
   "outputs": [],
   "source": [
    "# Finding the best fit line by finding the best m and b values producing the minimum sum of squares.\n",
    "# The lower the Sum of Squares of residuals -> the better the fit -> essentially Minimising the Loss function.\n",
    "# Several Optimization techniques: \n",
    "    # 1) Closed Form Equation; \n",
    "    # 2) Matrix Inversion;\n",
    "    # 3) Matrix Decomposition; \n",
    "    # 4) Gradient Descent; \n",
    "    # 5) Stochastic Gradient Descent"
   ]
  },
  {
   "cell_type": "code",
   "execution_count": 4,
   "metadata": {},
   "outputs": [
    {
     "name": "stdout",
     "output_type": "stream",
     "text": [
      "Total no. of items: 10\n",
      "m = 1.9393939393939394 \n",
      "b = 4.7333333333333325\n"
     ]
    }
   ],
   "source": [
    "# 1) Closed Form Equation\n",
    "# Suitable for a Simple Linear regression with one input and one output variable\n",
    "# Tend not to scale well, especially with larger datasets\n",
    "# Equation for m & b derived from Calculus\n",
    "\n",
    "import pandas as pd\n",
    "\n",
    "points = list(pd.read_csv('https://bit.ly/3goOAnt', delimiter=',').itertuples()) #import points\n",
    "\n",
    "n = len(points)\n",
    "print('Total no. of items: {0}'.format(n))\n",
    "\n",
    "m = ((n * sum(p.x * p.y for p in points) - ((sum(p.x for p in points) * sum(p.y for p in points))))) / ((n * sum(p.x ** 2 for p in points)) - (sum(p.x for p in points)**2))\n",
    "    \n",
    "b = (sum(p.y for p in points) / n) - m*(sum(p.x for p in points) / n)\n",
    "\n",
    "print('m = {0} \\nb = {1}'.format(m ,b))"
   ]
  },
  {
   "cell_type": "code",
   "execution_count": 5,
   "metadata": {
    "scrolled": true
   },
   "outputs": [
    {
     "name": "stdout",
     "output_type": "stream",
     "text": [
      "Matrix Inversion technique yields \n",
      "[m  b] : [1.93939394 4.73333333]\n"
     ]
    }
   ],
   "source": [
    "# 2) Matrix Inversion\n",
    "\n",
    "import pandas as pd\n",
    "import numpy as np\n",
    "from numpy.linalg import inv\n",
    "\n",
    "df = pd.read_csv('https://bit.ly/3goOAnt', delimiter=',')\n",
    "\n",
    "X = df.values[:, :-1].flatten()\n",
    "Y = df.values[:, -1]\n",
    "\n",
    "# Adding placeholder 1s column to generate intercept\n",
    "X_1 = np.vstack([X, np.ones(len(X))]).transpose()\n",
    "\n",
    "b = inv(X_1.transpose() @ X_1) @ (X_1.transpose() @ Y)\n",
    "\n",
    "print('Matrix Inversion technique yields \\n[m  b] : {0}'.format(b))"
   ]
  },
  {
   "cell_type": "code",
   "execution_count": 6,
   "metadata": {
    "scrolled": true
   },
   "outputs": [
    {
     "name": "stdout",
     "output_type": "stream",
     "text": [
      "Matrix QR Decomposition technique yields \n",
      "[m  b] : [1.93939394 4.73333333]\n"
     ]
    }
   ],
   "source": [
    "# 3) Matrix Decomposition (QR Decomposition)\n",
    "# QR Decomposition copes with large amounts of data well and exhibits Numerical stability in minimising errors in approximations\n",
    "\n",
    "import pandas as pd\n",
    "import numpy as np\n",
    "from numpy.linalg import inv, qr\n",
    "\n",
    "df = pd.read_csv('https://bit.ly/3goOAnt', delimiter=',')\n",
    "\n",
    "X = df.values[:, :-1].flatten()\n",
    "Y = df.values[:, -1]\n",
    "\n",
    "# Adding placeholder 1s column to generate intercept\n",
    "X_1 = np.vstack([X, np.ones(len(X))]).transpose()\n",
    "\n",
    "# Calcuulate coefficients of Slope m and Intercept b using QR decomposition\n",
    "Q, R = qr(X_1)\n",
    "b = inv(R) @ (Q.transpose() @ Y)\n",
    "\n",
    "print('Matrix QR Decomposition technique yields \\n[m  b] : {0}'.format(b))"
   ]
  },
  {
   "cell_type": "code",
   "execution_count": 7,
   "metadata": {
    "scrolled": true
   },
   "outputs": [
    {
     "name": "stdout",
     "output_type": "stream",
     "text": [
      "Derivative of function (x - 3)**2 + 4 is 2*x - 6\n",
      "Value of x with minimal gradient after 100000 iterations: 3.0 \n",
      "Value of f(x) at x value above: 4.0\n",
      "Value of gradient at x value above: 0.0\n"
     ]
    },
    {
     "data": {
      "image/png": "[encoded data removed]",
      "text/plain": [
       "<Figure size 432x288 with 1 Axes>"
      ]
     },
     "metadata": {
      "needs_background": "light"
     },
     "output_type": "display_data"
    },
    {
     "data": {
      "text/plain": [
       "<sympy.plotting.plot.Plot at 0x7fea10908370>"
      ]
     },
     "execution_count": 7,
     "metadata": {},
     "output_type": "execute_result"
    }
   ],
   "source": [
    "# 4) Gradient Descent part 1\n",
    "\n",
    "# Testing the concept of Gradient Descent by finding value of x with gradient very close to zero for f(x)=(x-3)**2 + 4\n",
    "\n",
    "import random\n",
    "from sympy import *\n",
    "\n",
    "x = symbols('x')\n",
    "function = (x-3)**2 + 4\n",
    "deriv_func = diff(function)\n",
    "print('Derivative of function {0} is {1}'.format(function, deriv_func))\n",
    "\n",
    "def f(x): \n",
    "    return (x-3)**2 + 4\n",
    "\n",
    "def dx_f(x):\n",
    "    return 2*x - 6\n",
    "\n",
    "# set Learning rate value, a learning rate of 0.01 with 100,000 iterations is slightly better than 0.001 with 100,000 iterations\n",
    "L = 0.01\n",
    "\n",
    "# set no. of iterations to perform\n",
    "Iterations = 100000\n",
    "\n",
    "# start at a random x value\n",
    "x = random.randint(-15,20)\n",
    "\n",
    "for i in range(Iterations):\n",
    "    slope = dx_f(x)\n",
    "    x = x - (L*slope)\n",
    "    \n",
    "print('Value of x with minimal gradient after {0} iterations: {1} \\nValue of f(x) at x value above: {2}'.format(Iterations, x, f(x)))\n",
    "print('Value of gradient at x value above: {0}'.format(slope))\n",
    "\n",
    "# plot the function to see whether above is true\n",
    "plot(function, xlim=(-10, 10), ylim=(0,150))"
   ]
  },
  {
   "cell_type": "code",
   "execution_count": 8,
   "metadata": {},
   "outputs": [
    {
     "name": "stdout",
     "output_type": "stream",
     "text": [
      "Final result of optimized Linear Regression model function : \n",
      "f(x) = 1.9393939393939548x + 4.733333333333227\n"
     ]
    },
    {
     "data": {
      "image/png": "[encoded data removed]",
      "text/plain": [
       "<Figure size 432x288 with 1 Axes>"
      ]
     },
     "metadata": {
      "needs_background": "light"
     },
     "output_type": "display_data"
    }
   ],
   "source": [
    "# 4) Gradient Descent part 2\n",
    "\n",
    "# Gradient Descent for a Linear Regression using 'https://bit.ly/3goOAnt' dataset using Nympy library\n",
    "\n",
    "import pandas as pd\n",
    "import matplotlib.pyplot as plt\n",
    "\n",
    "points = list(pd.read_csv('https://bit.ly/3goOAnt', delimiter=',').itertuples())\n",
    "n = float(len(points)) #no. of elements in X\n",
    "\n",
    "# setting the initial conditions & datatype\n",
    "m = 0.0\n",
    "b = 0.0\n",
    "\n",
    "L = 0.001\n",
    "iterations = 100000\n",
    "\n",
    "# the gradient descent formula\n",
    "\n",
    "for i in range(iterations):\n",
    "    dm_f = sum(2 * p.x * ((m * p.x + b) - p.y) for p in points)\n",
    "    db_f = sum(2 * ((m * p.x + b) - p.y) for p in points)\n",
    "    m = m - L*dm_f\n",
    "    b = b - L*db_f\n",
    "    \n",
    "print('Final result of optimized Linear Regression model function : \\nf(x) = {0}x + {1}'.format(m, b))\n",
    "\n",
    "df = pd.read_csv('https://bit.ly/3goOAnt', delimiter=',')\n",
    "X = df.values[:, :-1]\n",
    "Y = df.values[:, -1]\n",
    "\n",
    "plt.plot(X, Y, 'o')\n",
    "plt.plot(X, m*X + b)\n",
    "plt.xlabel('x')\n",
    "plt.ylabel('y')\n",
    "plt.title('Linear Regression model')\n",
    "plt.show()"
   ]
  },
  {
   "cell_type": "code",
   "execution_count": 9,
   "metadata": {},
   "outputs": [
    {
     "name": "stdout",
     "output_type": "stream",
     "text": [
      "Derivative wrt m: Sum(2*(b + m*x(i) - y(i))*x(i), (i, 0, n))\n",
      "Derivative wrt b: Sum(2*b + 2*m*x(i) - 2*y(i), (i, 0, n))\n",
      "Final equation obtained: y = 1.939393939393954x + 4.733333333333231\n"
     ]
    },
    {
     "data": {
      "image/png": "[encoded data removed]",
      "text/plain": [
       "<Figure size 432x288 with 1 Axes>"
      ]
     },
     "metadata": {
      "needs_background": "light"
     },
     "output_type": "display_data"
    },
    {
     "data": {
      "text/plain": [
       "<sympy.plotting.plot.Plot at 0x7fea22e48dc0>"
      ]
     },
     "execution_count": 9,
     "metadata": {},
     "output_type": "execute_result"
    }
   ],
   "source": [
    "# 4) Gradient Descent part 3\n",
    "\n",
    "# Gradient Descent for a Linear Regression using 'https://bit.ly/3goOAnt' dataset using Sympy library\n",
    "# Batch Gradient Descent is used here where all the training data is used one-shot for all iterations. \n",
    "\n",
    "from sympy import *\n",
    "from sympy.plotting import plot3d\n",
    "import pandas as pd\n",
    "\n",
    "# Getting the derivatives wrt m, b\n",
    "m, b, i, n = symbols('m b i n')\n",
    "x, y = symbols('x y', cls = Function)\n",
    "\n",
    "sum_of_squares = Sum((m*x(i) + b - y(i))**2, (i,0,n))\n",
    "\n",
    "deriv_wrt_m = diff(sum_of_squares, m)\n",
    "deriv_wrt_b = diff(sum_of_squares, b)\n",
    "\n",
    "print('Derivative wrt m: {0}'.format(deriv_wrt_m))\n",
    "print('Derivative wrt b: {0}'.format(deriv_wrt_b))\n",
    "\n",
    "# Solving Linear Regression\n",
    "points = list(pd.read_csv('https://bit.ly/3goOAnt', delimiter=',').itertuples())\n",
    "\n",
    "d_wrt_m = deriv_wrt_m \\\n",
    "            .subs(n, len(points) - 1).doit() \\\n",
    "            .replace(x, lambda i: points[i].x) \\\n",
    "            .replace(y, lambda i: points[i].y)\n",
    "\n",
    "d_wrt_b = deriv_wrt_b \\\n",
    "            .subs(n, len(points) - 1).doit() \\\n",
    "            .replace(x, lambda i: points[i].x) \\\n",
    "            .replace(y, lambda i: points[i].y)\n",
    "\n",
    "# compute using lambdify fucntion in Sympy library\n",
    "d_wrt_m = lambdify([m, b], d_wrt_m)\n",
    "d_wrt_b = lambdify([m, b], d_wrt_b)\n",
    "\n",
    "m = 0.0\n",
    "b = 0.0\n",
    "L = 0.001\n",
    "iterations = 100000\n",
    "\n",
    "for i in range(iterations):\n",
    "    m = m - L*d_wrt_m(m,b)\n",
    "    b = b - L*d_wrt_b(m,b)\n",
    "    \n",
    "print('Final equation obtained: y = {0}x + {1}'.format(m, b))\n",
    "\n",
    "# plotting the loss function in m, b, f(m,b) axes\n",
    "points = list(pd.read_csv('https://bit.ly/3goOAnt', delimiter=',').itertuples())\n",
    "\n",
    "m, b, i = symbols('m b i')\n",
    "x, y = symbols('x y', cls = Function)\n",
    "\n",
    "sum_of_squares = Sum((m*x(i) + b - y(i))**2, (i,0,n)) \\\n",
    "            .subs(n, len(points) - 1).doit() \\\n",
    "            .replace(x, lambda i: points[i].x) \\\n",
    "            .replace(y, lambda i: points[i].y)\n",
    "\n",
    "plot3d(sum_of_squares, title='Loss function landscape for simple Linear Regression')\n"
   ]
  },
  {
   "cell_type": "code",
   "execution_count": 10,
   "metadata": {},
   "outputs": [
    {
     "name": "stdout",
     "output_type": "stream",
     "text": [
      "Dataset: \n",
      "    x   y\n",
      "0   1   5\n",
      "1   2  10\n",
      "2   3  10\n",
      "3   4  15\n",
      "4   5  14\n",
      "5   6  15\n",
      "6   7  19\n",
      "7   8  18\n",
      "8   9  25\n",
      "9  10  23\n",
      "List of X:\n",
      "[ 1  2  3  4  5  6  7  8  9 10]\n",
      "List of Y:\n",
      "[ 5 10 10 15 14 15 19 18 25 23]\n",
      "Total no. of data points in the dataset: 10\n",
      "Value of i: 0, Value of m: 0.016, Value of b: 0.0029000000000000002\n",
      "Value of i: 20000, Value of m: 2.187427983411217, Value of b: 2.856724683789949\n",
      "Value of i: 40000, Value of m: 2.04966106662685, Value of b: 3.9273506009703603\n",
      "Value of i: 60000, Value of m: 1.9879920112296035, Value of b: 4.398873455783394\n",
      "Value of i: 80000, Value of m: 1.970617446304491, Value of b: 4.58351064643702\n",
      "Value of i: 100000, Value of m: 1.9531720770510357, Value of b: 4.679169000450926\n",
      "Value of i: 120000, Value of m: 1.9809728767739065, Value of b: 4.697968138957314\n",
      "Value of i: 140000, Value of m: 1.952868419986233, Value of b: 4.706598137311189\n",
      "Value of i: 160000, Value of m: 1.9495384663318862, Value of b: 4.719733659375376\n",
      "Value of i: 180000, Value of m: 1.944860032782013, Value of b: 4.720907229996204\n",
      "Value of i: 200000, Value of m: 1.9405546980759774, Value of b: 4.720125747927889\n",
      "Value of i: 220000, Value of m: 1.939602715411424, Value of b: 4.736364458585785\n",
      "Value of i: 240000, Value of m: 1.9490699910993765, Value of b: 4.7211068200191315\n",
      "Value of i: 260000, Value of m: 1.934729059907631, Value of b: 4.733040485129963\n",
      "Value of i: 280000, Value of m: 1.9213801326880635, Value of b: 4.74955277939738\n",
      "Value of i: 300000, Value of m: 1.9363485159291065, Value of b: 4.749135302672872\n",
      "Value of i: 320000, Value of m: 1.9387536957405795, Value of b: 4.734627766743873\n",
      "Value of i: 340000, Value of m: 1.9558006886203085, Value of b: 4.7521060459116\n",
      "Value of i: 360000, Value of m: 1.9430774935371393, Value of b: 4.753436533505622\n",
      "Value of i: 380000, Value of m: 1.9405164242780073, Value of b: 4.7507353905284315\n",
      "Value of i: 400000, Value of m: 1.9512925937303378, Value of b: 4.734989703484603\n",
      "Value of i: 420000, Value of m: 1.9526768166909632, Value of b: 4.739510723880301\n",
      "Value of i: 440000, Value of m: 1.9448300005135806, Value of b: 4.743912385303216\n",
      "Value of i: 460000, Value of m: 1.9520017029324879, Value of b: 4.740503393004461\n",
      "Value of i: 480000, Value of m: 1.928805035788793, Value of b: 4.7277796229910845\n",
      "Value of i: 500000, Value of m: 1.9219543258575782, Value of b: 4.740829148340875\n",
      "Value of i: 520000, Value of m: 1.9482363175468853, Value of b: 4.734862186232012\n",
      "Value of i: 540000, Value of m: 1.9573194538102232, Value of b: 4.727266508053025\n",
      "Value of i: 560000, Value of m: 1.963122810192425, Value of b: 4.714593408136847\n",
      "Value of i: 580000, Value of m: 1.9383578110450306, Value of b: 4.721882610982402\n",
      "Value of i: 600000, Value of m: 1.9302645247117074, Value of b: 4.732080750041271\n",
      "Value of i: 620000, Value of m: 1.9480580581652096, Value of b: 4.728323807303357\n",
      "Value of i: 640000, Value of m: 1.932812567354136, Value of b: 4.7333249369173025\n",
      "Value of i: 660000, Value of m: 1.9398988098564747, Value of b: 4.737457668447646\n",
      "Value of i: 680000, Value of m: 1.9462326704355097, Value of b: 4.739917317261083\n",
      "Value of i: 700000, Value of m: 1.9455071224336409, Value of b: 4.725826881197288\n",
      "Value of i: 720000, Value of m: 1.941130991688642, Value of b: 4.72942821697235\n",
      "Value of i: 740000, Value of m: 1.9531637074711625, Value of b: 4.7307481263933235\n",
      "Value of i: 760000, Value of m: 1.939641240138263, Value of b: 4.724160040208987\n",
      "Value of i: 780000, Value of m: 1.936042251897592, Value of b: 4.709996073612154\n",
      "Value of i: 800000, Value of m: 1.940303210587426, Value of b: 4.724910216832928\n",
      "Value of i: 820000, Value of m: 1.9542662972018852, Value of b: 4.736548725546716\n",
      "Value of i: 840000, Value of m: 1.9174592838210511, Value of b: 4.728110124008299\n",
      "Value of i: 860000, Value of m: 1.9543460414952165, Value of b: 4.741380543847174\n",
      "Value of i: 880000, Value of m: 1.9389362552168383, Value of b: 4.740436224623567\n",
      "Value of i: 900000, Value of m: 1.9362256464263976, Value of b: 4.746174498671191\n",
      "Value of i: 920000, Value of m: 1.9436791567437752, Value of b: 4.75283349401432\n",
      "Value of i: 940000, Value of m: 1.9427203537323623, Value of b: 4.752838314989327\n",
      "Value of i: 960000, Value of m: 1.9206115191876614, Value of b: 4.73399977851357\n",
      "Value of i: 980000, Value of m: 1.9599903791560387, Value of b: 4.7368808299140595\n",
      "Final equation: f(x) = 1.9249933710143152x + 4.733167357709258\n"
     ]
    }
   ],
   "source": [
    "# 5) Stochastic Gradient Descent\n",
    "\n",
    "# Stochastic Gradient Descent is used here where mini multiple batches of random samples are used in each iteration from the population. \n",
    "\n",
    "import pandas as pd\n",
    "import numpy as np\n",
    "\n",
    "data = pd.read_csv('https://bit.ly/2KF29Bd', header=0)\n",
    "\n",
    "X = data.iloc[:, 0].values\n",
    "Y = data.iloc[:, 1].values\n",
    "\n",
    "n = data.shape[0] #how many data points/rows in the dataset\n",
    "\n",
    "print('Dataset: \\n{0}'.format(data))\n",
    "print('List of X:\\n{0}'.format(X))\n",
    "print('List of Y:\\n{0}'.format(Y))\n",
    "print('Total no. of data points in the dataset: {0}'.format(n))\n",
    "\n",
    "# Generating the model & setting the initial parameters\n",
    "m = 0.0\n",
    "b = 0.0\n",
    "sample_size = 2\n",
    "L = 0.0001\n",
    "epochs = 1000000 #the no. of iterations to perform gradient descent\n",
    "\n",
    "# Performing the Stochastic Gradient Descent\n",
    "for i in range(epochs):\n",
    "    idx = np.random.choice(n, sample_size, replace=False)\n",
    "    x_sample = X[idx]\n",
    "    y_sample = Y[idx]\n",
    "    \n",
    "    Y_predicted = m * x_sample + b #current predicted value of Y\n",
    "    \n",
    "    Deriv_wrt_m = (-2 / sample_size) * sum(x_sample * (y_sample - Y_predicted)) #derivative of loss function wrt m\n",
    "    Deriv_wrt_b = (-2 / sample_size) * sum(y_sample - Y_predicted) #derivative of loss function wrt b\n",
    "    \n",
    "    m = m - L*Deriv_wrt_m\n",
    "    b = b - L*Deriv_wrt_b\n",
    "    \n",
    "    if i % 20000 == 0:\n",
    "        print('Value of i: {0}, Value of m: {1}, Value of b: {2}'.format(i, m, b))\n",
    "        \n",
    "print('Final equation: f(x) = {0}x + {1}'.format(m, b))"
   ]
  },
  {
   "cell_type": "code",
   "execution_count": 11,
   "metadata": {},
   "outputs": [
    {
     "name": "stdout",
     "output_type": "stream",
     "text": [
      "          x         y\n",
      "x  1.000000  0.957586\n",
      "y  0.957586  1.000000\n"
     ]
    }
   ],
   "source": [
    "# Understanding the Correlation Coefficient_Pearson (r)\n",
    "\n",
    "import pandas as pd\n",
    "\n",
    "df = pd.read_csv('https://bit.ly/2KF29Bd', delimiter=',')\n",
    "\n",
    "correlations = df.corr(method='pearson')\n",
    "\n",
    "print(correlations)"
   ]
  },
  {
   "cell_type": "code",
   "execution_count": 12,
   "metadata": {},
   "outputs": [
    {
     "name": "stdout",
     "output_type": "stream",
     "text": [
      "The Pearson Correlation Coefficient is: 0.9575860952087218\n"
     ]
    }
   ],
   "source": [
    "# The Correlation Coefficient (Pearson) function\n",
    "import pandas as pd\n",
    "from math import sqrt\n",
    "\n",
    "\n",
    "def Correlation_coefficient_pearson(points):\n",
    "    \n",
    "    n = len(points)\n",
    "    \n",
    "    numerator = n * sum(p.x * p.y for p in points) - \\\n",
    "                sum(p.x for p in points) * sum(p.y for p in points)\n",
    "    denominator = sqrt(n * sum(p.x**2 for p in points) - sum(p.x for p in points)**2) \\\n",
    "                  * sqrt(n * sum(p.y**2 for p in points) - sum(p.y for p in points)**2)\n",
    "    \n",
    "    corr = numerator / denominator\n",
    "    \n",
    "    return corr\n",
    "    \n",
    "df = list(pd.read_csv('https://bit.ly/2KF29Bd').itertuples())\n",
    "\n",
    "pearson_corr = Correlation_coefficient_pearson(df)\n",
    "\n",
    "print('The Pearson Correlation Coefficient is: {0}'.format(pearson_corr))"
   ]
  },
  {
   "cell_type": "code",
   "execution_count": 13,
   "metadata": {},
   "outputs": [
    {
     "name": "stdout",
     "output_type": "stream",
     "text": [
      "TEST VALUE: 9.399575927136752\n",
      "CRITICAL RANGE: -2.262157162740992, 2.2621571627409915\n",
      "Conclusion: CORRELATION PROVEN, Reject H0\n",
      "P-VALUE: 5.976327099421752e-06\n"
     ]
    }
   ],
   "source": [
    "# Statistical Significance of the Linear Regression\n",
    "import numpy as np\n",
    "from scipy.stats import t\n",
    "from math import sqrt\n",
    "\n",
    "# sample definition\n",
    "n = 10\n",
    "lower_cv = t(n-1).ppf(0.025) # Test value of lower end of T-distribution at 2.5% confidence\n",
    "upper_cv = t(n-1).ppf(0.975) # Test value of lower end of T-distribution at 2.5% confidence\n",
    "\n",
    "# Correlation Coefficient\n",
    "# use sample correlation coefficient from previous data 'https://bit.ly/2KF29Bd'\n",
    "r = 0.9575860952087218\n",
    "\n",
    "# Perform the T-test\n",
    "test_value = r / sqrt((1-r**2) / (n-2))\n",
    "\n",
    "print('TEST VALUE: {0}'.format(test_value))\n",
    "print('CRITICAL RANGE: {0}, {1}'.format(lower_cv, upper_cv))\n",
    "\n",
    "if test_value < lower_cv or test_value > upper_cv:\n",
    "    print('Conclusion: CORRELATION PROVEN, Reject H0')\n",
    "else:\n",
    "    print('Conclusion: CORRELATION NOT PROVEN, Failed to reject H0')\n",
    "    \n",
    "# Calculate p-value\n",
    "if test_value > 0:\n",
    "    p_value = 1 - t(n-1).cdf(test_value)\n",
    "else: \n",
    "    p_value = t(n-1).cdf(test_value)\n",
    "    \n",
    "# Using two-tailed test, so multiply by 2\n",
    "p_value = p_value * 2\n",
    "\n",
    "print('P-VALUE: {0}'.format(p_value))\n"
   ]
  },
  {
   "cell_type": "code",
   "execution_count": 14,
   "metadata": {},
   "outputs": [
    {
     "name": "stdout",
     "output_type": "stream",
     "text": [
      "          x         y\n",
      "x  1.000000  0.916971\n",
      "y  0.916971  1.000000\n"
     ]
    }
   ],
   "source": [
    "# Understanding the Coefficient of Determination or R-square (r2)\n",
    "\n",
    "import pandas as pd\n",
    "\n",
    "df = pd.read_csv('https://bit.ly/2KF29Bd', delimiter=',')\n",
    "\n",
    "coeff_determination = df.corr(method='pearson')**2\n",
    "\n",
    "print(coeff_determination)"
   ]
  },
  {
   "cell_type": "code",
   "execution_count": 15,
   "metadata": {},
   "outputs": [
    {
     "name": "stdout",
     "output_type": "stream",
     "text": [
      "SSE for the linear regression above is: 1.87406793500129\n"
     ]
    }
   ],
   "source": [
    "# Understanding the Standard Error of the Estimate (SSE)\n",
    "\n",
    "import pandas as pd\n",
    "from math import sqrt\n",
    "\n",
    "points = list(pd.read_csv('https://bit.ly/2KF29Bd', delimiter=',').itertuples())\n",
    "\n",
    "n = len(points)\n",
    "\n",
    "# regression line parameters obtained previously\n",
    "m = 1.939\n",
    "b = 4.733\n",
    "\n",
    "# calculate the SSE\n",
    "SSE = sqrt((sum((p.y - (m*p.x + b))**2 for p in points)) / (n-2))\n",
    "\n",
    "print('SSE for the linear regression above is: {0}'.format(SSE))"
   ]
  },
  {
   "cell_type": "code",
   "execution_count": 16,
   "metadata": {},
   "outputs": [
    {
     "name": "stdout",
     "output_type": "stream",
     "text": [
      "Prediction interval for no. of vet visits with 95% confidence for a dog aged 8.5 years old: \n",
      "Between 16.466205062048395 and 25.970158574315285\n"
     ]
    }
   ],
   "source": [
    "# Understanding Prediction Intervals using a dataset on vet visits for a dog and age of dogs,\n",
    "# Here, we are interested in finding out prediction interval for a dog aged 8.5 years old\n",
    "\n",
    "import pandas as pd\n",
    "from math import sqrt\n",
    "from scipy.stats import t # use T-distribution as our sample size is small\n",
    "\n",
    "#Load the data\n",
    "points = list(pd.read_csv('https://bit.ly/2KF29Bd', delimiter=',').itertuples())\n",
    "\n",
    "n = len(points) #count no. of rows\n",
    "\n",
    "#Linear Regression line obtained from above codes\n",
    "m = 1.939393939393954\n",
    "b = 4.733333333333231\n",
    "\n",
    "# calculate prediction interval for x = 8.5 given y=no. of vet visits & x=age of the dog\n",
    "x_0 = 8.5\n",
    "x_mean = sum(p.x for p in points) / n\n",
    "\n",
    "t_value = t(n-2).ppf(0.975) #95% two-tailed confidence interval\n",
    "\n",
    "standard_error = sqrt(sum((p.y - (m*p.x + b))**2 for p in points) / (n-2))\n",
    "\n",
    "margin_of_error = t_value * standard_error * sqrt(1 + (1/n) + (n * (x_0 - x_mean)**2) / \\\n",
    "                                                 (n * sum(p.x ** 2 for p in points) - \\\n",
    "                                                     sum(p.x for p in points)**2))\n",
    "predicted_y = m*x_0 + b\n",
    "\n",
    "print('Prediction interval for no. of vet visits with 95% confidence for a dog aged 8.5 years old: \\nBetween {0} and {1}'.format(predicted_y - margin_of_error, predicted_y + margin_of_error))"
   ]
  },
  {
   "cell_type": "code",
   "execution_count": 17,
   "metadata": {},
   "outputs": [
    {
     "name": "stdout",
     "output_type": "stream",
     "text": [
      "r^2 : 0.993\n"
     ]
    }
   ],
   "source": [
    "# Trying out Test/Train Splits for a Linear Regression\n",
    "\n",
    "import pandas as pd\n",
    "from sklearn.linear_model import LinearRegression\n",
    "from sklearn.model_selection import train_test_split\n",
    "\n",
    "#load the dataset\n",
    "df = pd.read_csv('https://bit.ly/3cIH97A', delimiter=',')\n",
    "X = df.values[:, :-1]\n",
    "Y = df.values[:, -1]\n",
    "\n",
    "#separate training & testing data -> setting 1/3 to be left out of the dataset for Testing\n",
    "X_train, X_test, Y_train, Y_test = train_test_split(X, Y, test_size=1/4) #using test_size=1/4 is better than using test_size=1/3\n",
    "\n",
    "#setting up the linear regression model\n",
    "model = LinearRegression()\n",
    "model.fit(X_train, Y_train)\n",
    "result = model.score(X_test, Y_test)\n",
    "\n",
    "print('r^2 : %.3f' % result)\n"
   ]
  },
  {
   "cell_type": "code",
   "execution_count": 18,
   "metadata": {},
   "outputs": [
    {
     "name": "stdout",
     "output_type": "stream",
     "text": [
      "[0.99464084 0.99306054 0.99015878 0.99299581 0.99320423]\n",
      "MSE : mean = 0.993 (stdev - 0.00146)\n"
     ]
    }
   ],
   "source": [
    "# Trying out Cross-Validation for a Linear Regression\n",
    "\n",
    "import pandas as pd\n",
    "from sklearn.linear_model import LinearRegression\n",
    "from sklearn.model_selection import KFold, cross_val_score\n",
    "\n",
    "#load the dataset\n",
    "df = pd.read_csv('https://bit.ly/3cIH97A', delimiter=',')\n",
    "X = df.values[:, :-1]\n",
    "Y = df.values[:, -1]\n",
    "\n",
    "#performing a linear regression incorporating cross-validation\n",
    "kfold = KFold(n_splits = 5, random_state = 10, shuffle = True)\n",
    "model = LinearRegression()\n",
    "results = cross_val_score(model, X, Y, cv=kfold)\n",
    "\n",
    "print(results)\n",
    "print('MSE : mean = %.3f (stdev - %.5f)' % (results.mean(), results.std()))\n"
   ]
  },
  {
   "cell_type": "code",
   "execution_count": 19,
   "metadata": {},
   "outputs": [
    {
     "name": "stdout",
     "output_type": "stream",
     "text": [
      "[0.99234901 0.99226752 0.9940231  0.99349246 0.99265416 0.9923708\n",
      " 0.99246642 0.99438614 0.99246506 0.99224505 0.99284641 0.99280663\n",
      " 0.99379376 0.9936306  0.99252887 0.99397079 0.99404819 0.99206112\n",
      " 0.99464599 0.99287629]\n",
      "Mean = 0.993 (stdev - 0.00079)\n"
     ]
    }
   ],
   "source": [
    "# Trying out Random-fold Validation for a Linear Regression\n",
    "\n",
    "import pandas as pd\n",
    "from sklearn.linear_model import LinearRegression\n",
    "from sklearn.model_selection import ShuffleSplit, cross_val_score\n",
    "\n",
    "#load the dataset\n",
    "df = pd.read_csv('https://bit.ly/3cIH97A', delimiter=',')\n",
    "X = df.values[:, :-1]\n",
    "Y = df.values[:, -1]\n",
    "\n",
    "#performing a linear regression incorporating cross-validation\n",
    "kfold = ShuffleSplit(n_splits = 20, test_size = 1/4, random_state = 7)\n",
    "model = LinearRegression()\n",
    "results = cross_val_score(model, X, Y, cv=kfold)\n",
    "\n",
    "print(results)\n",
    "print('Mean = %.3f (stdev - %.5f)' % (results.mean(), results.std()))"
   ]
  },
  {
   "cell_type": "code",
   "execution_count": 20,
   "metadata": {},
   "outputs": [
    {
     "name": "stdout",
     "output_type": "stream",
     "text": [
      "Coefficients = [2.00672647 3.00203798]\n",
      "Intercept = 20.109432820035977\n",
      "z = 20.109432820035977 + 2.0067264725128062x + 3.002037976646692y\n"
     ]
    }
   ],
   "source": [
    "# Multiple Linear Regression - using two input variables and one output variable\n",
    "\n",
    "import pandas as pd\n",
    "from sklearn.linear_model import LinearRegression\n",
    "\n",
    "#load the data\n",
    "df = pd.read_csv('https://bit.ly/2X1HWH7', delimiter=',')\n",
    "X = df.values[:, :-1]\n",
    "Y = df.values[:, -1]\n",
    "\n",
    "#Training\n",
    "fit = LinearRegression().fit(X, Y)\n",
    "\n",
    "#print coefficients\n",
    "print('Coefficients = {0}'.format(fit.coef_))\n",
    "print('Intercept = {0}'.format(fit.intercept_))\n",
    "print('z = {0} + {1}x + {2}y'.format(fit.intercept_, fit.coef_[0], fit.coef_[1]))"
   ]
  },
  {
   "cell_type": "code",
   "execution_count": null,
   "metadata": {},
   "outputs": [],
   "source": []
  }
 ],
 "metadata": {
  "kernelspec": {
   "display_name": "Python 3",
   "language": "python",
   "name": "python3"
  },
  "language_info": {
   "codemirror_mode": {
    "name": "ipython",
    "version": 3
   },
   "file_extension": ".py",
   "mimetype": "text/x-python",
   "name": "python",
   "nbconvert_exporter": "python",
   "pygments_lexer": "ipython3",
   "version": "3.8.5"
  }
 },
 "nbformat": 4,
 "nbformat_minor": 4
}
