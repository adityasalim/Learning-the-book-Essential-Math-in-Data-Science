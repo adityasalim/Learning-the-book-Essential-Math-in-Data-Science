{
 "cells": [
  {
   "cell_type": "code",
   "execution_count": 1,
   "metadata": {},
   "outputs": [
    {
     "data": {
      "image/png": "[encoded data removed]",
      "text/plain": [
       "<Figure size 432x288 with 1 Axes>"
      ]
     },
     "metadata": {
      "needs_background": "light"
     },
     "output_type": "display_data"
    },
    {
     "name": "stdout",
     "output_type": "stream",
     "text": [
      "m = [1.93939394] \n",
      "b = [4.73333333]\n"
     ]
    }
   ],
   "source": [
    "# Fitting Linear Regression line to a set of X, Y data points\n",
    "\n",
    "import pandas as pd\n",
    "import matplotlib.pyplot as plt\n",
    "from sklearn.linear_model import LinearRegression\n",
    "\n",
    "df = pd.read_csv('https://bit.ly/3goOAnt', delimiter=',')\n",
    "\n",
    "X = df.values[:,:-1]\n",
    "Y = df.values[:, -1]\n",
    "\n",
    "fit = LinearRegression().fit(X, Y)\n",
    "\n",
    "m = fit.coef_.flatten() #gradient of fitted line\n",
    "b = fit.intercept_.flatten() #y-intercept of fitted line\n",
    "\n",
    "plt.plot(X, Y, 'x')\n",
    "plt.plot(X, m*X + b)\n",
    "plt.xlabel('x')\n",
    "plt.ylabel('y')\n",
    "plt.title('Linear Regression')\n",
    "plt.show()\n",
    "\n",
    "print('m = {0} \\nb = {1}'.format(m, b))"
   ]
  },
  {
   "cell_type": "code",
   "execution_count": 2,
   "metadata": {},
   "outputs": [
    {
     "name": "stdout",
     "output_type": "stream",
     "text": [
      "Residual error Pandas(Index=0, x=1, y=5): -1.6726999999999999\n",
      "Residual error Pandas(Index=1, x=2, y=10): 1.3879000000000001\n",
      "Residual error Pandas(Index=2, x=3, y=10): -0.5515000000000008\n",
      "Residual error Pandas(Index=3, x=4, y=15): 2.5091\n",
      "Residual error Pandas(Index=4, x=5, y=14): -0.430299999999999\n",
      "Residual error Pandas(Index=5, x=6, y=15): -1.3697000000000017\n",
      "Residual error Pandas(Index=6, x=7, y=19): 0.6908999999999992\n",
      "Residual error Pandas(Index=7, x=8, y=18): -2.2485\n",
      "Residual error Pandas(Index=8, x=9, y=25): 2.812100000000001\n",
      "Residual error Pandas(Index=9, x=10, y=23): -1.1272999999999982\n",
      "Sum of squared of residuals = 28.096969700000006\n"
     ]
    }
   ],
   "source": [
    "# Finding the residuals/errors for the fitted line & data points\n",
    "\n",
    "import pandas as pd\n",
    "\n",
    "points = pd.read_csv('https://bit.ly/3goOAnt', delimiter=',').itertuples() #import points\n",
    "\n",
    "m = 1.9394\n",
    "b = 4.7333\n",
    "\n",
    "sum_of_squares = 0  #declare sum of squares value before looping\n",
    "\n",
    "for p in points:\n",
    "    y_actual = p.y\n",
    "    y_predicted = m*p.x + b\n",
    "    residual = y_actual - y_predicted\n",
    "    residual_squared = (y_actual - y_predicted)**2\n",
    "    print('Residual error {0}: {1}'.format(p, residual))\n",
    "    # Finding the sum of squares for the residuals/error values above\n",
    "    sum_of_squares += residual_squared\n",
    "    \n",
    "print('Sum of squared of residuals = {0}'.format(sum_of_squares))"
   ]
  },
  {
   "cell_type": "code",
   "execution_count": 3,
   "metadata": {},
   "outputs": [],
   "source": [
    "# Finding the best fit line by finding the best m and b values producing the minimum sum of squares.\n",
    "# The lower the Sum of Squares of residuals -> the better the fit -> essentially Minimising the Loss function.\n",
    "# Several Optimization techniques: \n",
    "    # 1) Closed Form Equation; \n",
    "    # 2) Matrix Inversion;\n",
    "    # 3)Matrix Decomposition; \n",
    "    # 4) Gradient Descent; \n",
    "    # 5) Stochastic Gradient Descent"
   ]
  },
  {
   "cell_type": "code",
   "execution_count": 4,
   "metadata": {},
   "outputs": [
    {
     "name": "stdout",
     "output_type": "stream",
     "text": [
      "Total no. of items: 10\n",
      "m = 1.9393939393939394 \n",
      "b = 4.7333333333333325\n"
     ]
    }
   ],
   "source": [
    "# 1) Closed Form Equation\n",
    "# Suitable for a Simple Linear regression with one input and one output variable\n",
    "# Tend not to scale well, especially with larger datasets\n",
    "# Equation for m & b derived from Calculus\n",
    "\n",
    "import pandas as pd\n",
    "\n",
    "points = list(pd.read_csv('https://bit.ly/3goOAnt', delimiter=',').itertuples()) #import points\n",
    "\n",
    "n = len(points)\n",
    "print('Total no. of items: {0}'.format(n))\n",
    "\n",
    "m = ((n * sum(p.x * p.y for p in points) - ((sum(p.x for p in points) * sum(p.y for p in points))))) / ((n * sum(p.x ** 2 for p in points)) - (sum(p.x for p in points)**2))\n",
    "    \n",
    "b = (sum(p.y for p in points) / n) - m*(sum(p.x for p in points) / n)\n",
    "\n",
    "print('m = {0} \\nb = {1}'.format(m ,b))"
   ]
  },
  {
   "cell_type": "code",
   "execution_count": 5,
   "metadata": {
    "scrolled": true
   },
   "outputs": [
    {
     "name": "stdout",
     "output_type": "stream",
     "text": [
      "Matrix Inversion technique yields \n",
      "[m  b] : [1.93939394 4.73333333]\n"
     ]
    }
   ],
   "source": [
    "# 2) Matrix Inversion\n",
    "\n",
    "import pandas as pd\n",
    "import numpy as np\n",
    "from numpy.linalg import inv\n",
    "\n",
    "df = pd.read_csv('https://bit.ly/3goOAnt', delimiter=',')\n",
    "\n",
    "X = df.values[:, :-1].flatten()\n",
    "Y = df.values[:, -1]\n",
    "\n",
    "# Adding placeholder 1s column to generate intercept\n",
    "X_1 = np.vstack([X, np.ones(len(X))]).transpose()\n",
    "\n",
    "b = inv(X_1.transpose() @ X_1) @ (X_1.transpose() @ Y)\n",
    "\n",
    "print('Matrix Inversion technique yields \\n[m  b] : {0}'.format(b))"
   ]
  },
  {
   "cell_type": "code",
   "execution_count": 6,
   "metadata": {
    "scrolled": true
   },
   "outputs": [
    {
     "name": "stdout",
     "output_type": "stream",
     "text": [
      "Matrix QR Decomposition technique yields \n",
      "[m  b] : [1.93939394 4.73333333]\n"
     ]
    }
   ],
   "source": [
    "# 3) Matrix Decomposition (QR Decomposition)\n",
    "# QR Decomposition copes with large amounts of data well and exhibits Numerical stability in minimising errors in approximations\n",
    "\n",
    "import pandas as pd\n",
    "import numpy as np\n",
    "from numpy.linalg import inv, qr\n",
    "\n",
    "df = pd.read_csv('https://bit.ly/3goOAnt', delimiter=',')\n",
    "\n",
    "X = df.values[:, :-1].flatten()\n",
    "Y = df.values[:, -1]\n",
    "\n",
    "# Adding placeholder 1s column to generate intercept\n",
    "X_1 = np.vstack([X, np.ones(len(X))]).transpose()\n",
    "\n",
    "# Calcuulate coefficients of Slope m and Intercept b using QR decomposition\n",
    "Q, R = qr(X_1)\n",
    "b = inv(R) @ (Q.transpose() @ Y)\n",
    "\n",
    "print('Matrix QR Decomposition technique yields \\n[m  b] : {0}'.format(b))"
   ]
  },
  {
   "cell_type": "code",
   "execution_count": 7,
   "metadata": {
    "scrolled": true
   },
   "outputs": [
    {
     "name": "stdout",
     "output_type": "stream",
     "text": [
      "Derivative of function (x - 3)**2 + 4 is 2*x - 6\n",
      "Value of x with minimal gradient after 100000 iterations: 3.0000000000000107 \n",
      "Value of f(x) at x value above: 4.0\n",
      "Value of gradient at x value above: 2.1316282072803006e-14\n"
     ]
    },
    {
     "data": {
      "image/png": "[encoded data removed]",
      "text/plain": [
       "<Figure size 432x288 with 1 Axes>"
      ]
     },
     "metadata": {
      "needs_background": "light"
     },
     "output_type": "display_data"
    },
    {
     "data": {
      "text/plain": [
       "<sympy.plotting.plot.Plot at 0x7fb448929f40>"
      ]
     },
     "execution_count": 7,
     "metadata": {},
     "output_type": "execute_result"
    }
   ],
   "source": [
    "# 4) Gradient Descent part 1\n",
    "\n",
    "# Testing the concept of Gradient Descent by finding value of x with gradient very close to zero for f(x)=(x-3)**2 + 4\n",
    "\n",
    "import random\n",
    "from sympy import *\n",
    "\n",
    "x = symbols('x')\n",
    "function = (x-3)**2 + 4\n",
    "deriv_func = diff(function)\n",
    "print('Derivative of function {0} is {1}'.format(function, deriv_func))\n",
    "\n",
    "def f(x): \n",
    "    return (x-3)**2 + 4\n",
    "\n",
    "def dx_f(x):\n",
    "    return 2*x - 6\n",
    "\n",
    "# set Learning rate value, a learning rate of 0.01 with 100,000 iterations is slightly better than 0.001 with 100,000 iterations\n",
    "L = 0.01\n",
    "\n",
    "# set no. of iterations to perform\n",
    "Iterations = 100000\n",
    "\n",
    "# start at a random x value\n",
    "x = random.randint(-15,20)\n",
    "\n",
    "for i in range(Iterations):\n",
    "    slope = dx_f(x)\n",
    "    x = x - (L*slope)\n",
    "    \n",
    "print('Value of x with minimal gradient after {0} iterations: {1} \\nValue of f(x) at x value above: {2}'.format(Iterations, x, f(x)))\n",
    "print('Value of gradient at x value above: {0}'.format(slope))\n",
    "\n",
    "# plot the function to see whether above is true\n",
    "plot(function, xlim=(-10, 10), ylim=(0,150))"
   ]
  },
  {
   "cell_type": "code",
   "execution_count": 8,
   "metadata": {},
   "outputs": [
    {
     "name": "stdout",
     "output_type": "stream",
     "text": [
      "Final result of optimized Linear Regression model function : \n",
      "f(x) = 1.9393939393939548x + 4.733333333333227\n"
     ]
    },
    {
     "data": {
      "image/png": "[encoded data removed]",
      "text/plain": [
       "<Figure size 432x288 with 1 Axes>"
      ]
     },
     "metadata": {
      "needs_background": "light"
     },
     "output_type": "display_data"
    }
   ],
   "source": [
    "# 4) Gradient Descent part 2\n",
    "\n",
    "# Gradient Descent for a Linear Regression using 'https://bit.ly/3goOAnt' dataset\n",
    "\n",
    "import pandas as pd\n",
    "import matplotlib.pyplot as plt\n",
    "\n",
    "points = list(pd.read_csv('https://bit.ly/3goOAnt', delimiter=',').itertuples())\n",
    "n = float(len(points)) #no. of elements in X\n",
    "\n",
    "# setting the initial conditions & datatype\n",
    "m = 0.0\n",
    "b = 0.0\n",
    "\n",
    "L = 0.001\n",
    "iterations = 100000\n",
    "\n",
    "# the gradient descent formula\n",
    "\n",
    "for i in range(iterations):\n",
    "    dm_f = sum(2 * p.x * ((m * p.x + b) - p.y) for p in points)\n",
    "    db_f = sum(2 * ((m * p.x + b) - p.y) for p in points)\n",
    "    m = m - L*dm_f\n",
    "    b = b - L*db_f\n",
    "    \n",
    "print('Final result of optimized Linear Regression model function : \\nf(x) = {0}x + {1}'.format(m, b))\n",
    "\n",
    "df = pd.read_csv('https://bit.ly/3goOAnt', delimiter=',')\n",
    "X = df.values[:, :-1]\n",
    "Y = df.values[:, -1]\n",
    "\n",
    "plt.plot(X, Y, 'o')\n",
    "plt.plot(X, m*X + b)\n",
    "plt.xlabel('x')\n",
    "plt.ylabel('y')\n",
    "plt.title('Linear Regression model')\n",
    "plt.show()"
   ]
  },
  {
   "cell_type": "code",
   "execution_count": null,
   "metadata": {},
   "outputs": [],
   "source": []
  }
 ],
 "metadata": {
  "kernelspec": {
   "display_name": "Python 3",
   "language": "python",
   "name": "python3"
  },
  "language_info": {
   "codemirror_mode": {
    "name": "ipython",
    "version": 3
   },
   "file_extension": ".py",
   "mimetype": "text/x-python",
   "name": "python",
   "nbconvert_exporter": "python",
   "pygments_lexer": "ipython3",
   "version": "3.8.5"
  }
 },
 "nbformat": 4,
 "nbformat_minor": 4
}
